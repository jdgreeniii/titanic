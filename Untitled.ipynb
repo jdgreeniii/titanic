{
 "cells": [
  {
   "cell_type": "code",
   "execution_count": 1,
   "id": "contained-basement",
   "metadata": {},
   "outputs": [],
   "source": [
    "import pandas as pd\n",
    "import numpy as np\n",
    "import matplotlib\n",
    "from sklearn import preprocessing\n",
    "from sklearn.preprocessing import OneHotEncoder\n",
    "from sklearn.linear_model import LogisticRegressionCV\n",
    "from sklearn.ensemble import RandomForestRegressor\n",
    "from sklearn.datasets import make_regression\n",
    "from sklearn.ensemble import GradientBoostingClassifier\n",
    "import pickle\n",
    "from sklearn.pipeline import Pipeline"
   ]
  },
  {
   "cell_type": "code",
   "execution_count": 2,
   "id": "threatened-consensus",
   "metadata": {},
   "outputs": [],
   "source": [
    "df = pd.read_csv('./data/train.csv')"
   ]
  },
  {
   "cell_type": "code",
   "execution_count": 3,
   "id": "lesbian-turkish",
   "metadata": {},
   "outputs": [],
   "source": [
    "cabin_loc_let = []\n",
    "cabin_loc_num = []\n",
    "\n",
    "for i in df['Cabin']:\n",
    "    x = str(i)\n",
    "    cabin_loc_let.append(x[0])\n",
    "    if x[1] == 'a':\n",
    "        cabin_loc_num.append(0)\n",
    "    else:\n",
    "        cabin_loc_num.append(x[1:])\n",
    "        \n",
    "df['cabin_loc_let'] = cabin_loc_let\n",
    "df['cabin_loc_num'] = cabin_loc_num"
   ]
  },
  {
   "cell_type": "code",
   "execution_count": 4,
   "id": "nonprofit-remark",
   "metadata": {},
   "outputs": [],
   "source": [
    "cll_le = preprocessing.LabelEncoder() \n",
    "cll_enc = cll_le.fit_transform(df['cabin_loc_let'])\n",
    "sex_le = preprocessing.LabelEncoder() \n",
    "sex_enc = sex_le.fit_transform(df['Sex'])\n",
    "pclass_le = preprocessing.LabelEncoder() \n",
    "pclass_enc = pclass_le.fit_transform(df['Pclass'])\n",
    "embarked_le = preprocessing.LabelEncoder() \n",
    "embarked_enc = embarked_le.fit_transform(df['Embarked'])"
   ]
  },
  {
   "cell_type": "code",
   "execution_count": 5,
   "id": "together-static",
   "metadata": {},
   "outputs": [],
   "source": [
    "enc = OneHotEncoder(sparse = True)\n",
    "\n",
    "cll_enc = cll_enc.reshape(-1,1)\n",
    "sex_enc = sex_enc.reshape(-1,1)\n",
    "pclass_enc = pclass_enc.reshape(-1,1)\n",
    "embarked_enc = embarked_enc.reshape(-1,1)\n",
    "\n",
    "\n",
    "cll_onehot = enc.fit_transform(cll_enc).toarray()\n",
    "cll_cat = enc.categories_\n",
    "sex_onehot = enc.fit_transform(sex_enc).toarray()\n",
    "sex_cat = enc.categories_\n",
    "pclass_onehot = enc.fit_transform(pclass_enc).toarray()\n",
    "pclass_cat = enc.categories_\n",
    "embarked_onehot = enc.fit_transform(embarked_enc).toarray()\n",
    "embarked_cat = enc.categories_"
   ]
  },
  {
   "cell_type": "code",
   "execution_count": 6,
   "id": "adjustable-fiction",
   "metadata": {},
   "outputs": [
    {
     "name": "stderr",
     "output_type": "stream",
     "text": [
      "c:\\users\\jimmy\\appdata\\local\\programs\\python\\python38\\lib\\site-packages\\sklearn\\utils\\validation.py:63: DataConversionWarning: A column-vector y was passed when a 1d array was expected. Please change the shape of y to (n_samples, ), for example using ravel().\n",
      "  return f(*args, **kwargs)\n"
     ]
    }
   ],
   "source": [
    "cll_cat = np.asarray(cll_cat)\n",
    "sex_cat = np.asarray(sex_cat)\n",
    "pclass_cat = np.asarray(pclass_cat)\n",
    "embarked_cat = np.asarray(embarked_cat)\n",
    "\n",
    "cll_cat = cll_cat.reshape(-1,1)\n",
    "sex_cat = sex_cat.reshape(-1,1)\n",
    "pclass_cat = pclass_cat.reshape(-1,1)\n",
    "embarked_cat = embarked_cat.reshape(-1,1)\n",
    "\n",
    "cll_inv = cll_le.inverse_transform(cll_cat)\n",
    "sex_inv = sex_le.inverse_transform(sex_cat)\n",
    "pclass_inv = pclass_le.inverse_transform(pclass_cat)\n",
    "embarked_inv = embarked_le.inverse_transform(embarked_cat)"
   ]
  },
  {
   "cell_type": "code",
   "execution_count": 7,
   "id": "subjective-partnership",
   "metadata": {},
   "outputs": [],
   "source": [
    "cll_df = pd.DataFrame(data = cll_onehot, columns = cll_inv)\n",
    "sex_df = pd.DataFrame(data = sex_onehot, columns = sex_inv)\n",
    "pclass_df = pd.DataFrame(data = pclass_onehot, columns = pclass_inv)\n",
    "embarked_df = pd.DataFrame(data = embarked_onehot, columns = embarked_inv)\n",
    "\n",
    "df2 = pd.concat([df, cll_df, sex_df, pclass_df, embarked_df], axis = 1)"
   ]
  },
  {
   "cell_type": "code",
   "execution_count": 8,
   "id": "polish-discussion",
   "metadata": {},
   "outputs": [],
   "source": [
    "df2 = df2.drop(['Ticket', 'Sex', 'Cabin', 'Embarked', 'Pclass', 'Name', 'cabin_loc_let'], axis = 1)"
   ]
  },
  {
   "cell_type": "code",
   "execution_count": 9,
   "id": "negative-breed",
   "metadata": {},
   "outputs": [
    {
     "data": {
      "text/plain": [
       "[]"
      ]
     },
     "execution_count": 9,
     "metadata": {},
     "output_type": "execute_result"
    }
   ],
   "source": [
    "mean_age = df2['Age'].mean()\n",
    "mean_fare = df2['Fare'].mean()\n",
    "df2['Age'] = df2['Age'].fillna(value = mean_age)\n",
    "df2['Fare'] = df2['Fare'].fillna(value = mean_fare)\n",
    "\n",
    "\n",
    "df2.columns[df2.isna().any()].tolist()\n"
   ]
  },
  {
   "cell_type": "code",
   "execution_count": 10,
   "id": "hourly-chosen",
   "metadata": {},
   "outputs": [],
   "source": [
    "X_data = df2.drop(['Survived'], axis = 1)\n",
    "y_data = df2['Survived']"
   ]
  },
  {
   "cell_type": "code",
   "execution_count": 11,
   "id": "suited-uncle",
   "metadata": {},
   "outputs": [],
   "source": [
    "# df3 = pd.read_csv('./data/test.csv')"
   ]
  },
  {
   "cell_type": "code",
   "execution_count": 12,
   "id": "educated-deficit",
   "metadata": {},
   "outputs": [],
   "source": [
    "# clf10 = GradientBoostingClassifier(n_estimators=50, learning_rate=.1, max_depth=1, random_state=7, verbose = .1).fit(X_train, y_train)\n",
    "# clf100 = GradientBoostingClassifier(n_estimators=150, learning_rate=.1, max_depth=1, random_state=7, verbose = .1).fit(X_train, y_train)\n",
    "# clf500 = GradientBoostingClassifier(n_estimators=200, learning_rate=.1, max_depth=1, random_state=7, verbose = .1).fit(X_train, y_train)\n",
    "# clf1000 = GradientBoostingClassifier(n_estimators=250, learning_rate=.1, max_depth=1, random_state=7, verbose = .1).fit(X_train, y_train)"
   ]
  },
  {
   "cell_type": "code",
   "execution_count": 13,
   "id": "serial-nelson",
   "metadata": {},
   "outputs": [],
   "source": [
    "from sklearn.model_selection import train_test_split\n",
    "X_train, X_test, y_train, y_test = train_test_split(X_data, y_data, test_size=0.3, random_state=42)"
   ]
  },
  {
   "cell_type": "code",
   "execution_count": 33,
   "id": "complicated-darwin",
   "metadata": {},
   "outputs": [],
   "source": [
    "models = []\n",
    "score = []\n",
    "learning_rates = [0.01, 0.1, 0.2, 0.5, 1]\n",
    "\n",
    "for i in learning_rates:\n",
    "    model_output = GradientBoostingClassifier(n_estimators=500, learning_rate=i, max_depth=1, random_state=7).fit(X_train, y_train)\n",
    "    models.append(model_output)"
   ]
  },
  {
   "cell_type": "code",
   "execution_count": 34,
   "id": "earlier-document",
   "metadata": {},
   "outputs": [],
   "source": [
    "from sklearn.metrics import accuracy_score\n",
    "\n",
    "\n",
    "for i in models:\n",
    "    pred = i.predict(X_test)\n",
    "    pred = pred.reshape(-1,1)\n",
    "    acc = accuracy_score(pred, y_test)\n",
    "    score.append(acc)"
   ]
  },
  {
   "cell_type": "code",
   "execution_count": 35,
   "id": "utility-aggregate",
   "metadata": {},
   "outputs": [
    {
     "name": "stdout",
     "output_type": "stream",
     "text": [
      "      score  n_estimators\n",
      "0  0.765333            50\n",
      "1  0.775267            51\n",
      "2  0.776600            52\n",
      "3  0.777167            53\n",
      "4  0.776400            54\n"
     ]
    }
   ],
   "source": [
    "score = pd.DataFrame(score, columns = ['score'], index = range(0,(len(models))))\n",
    "score['n_estimators'] = range(50, (50 + len(models)))\n",
    "score.reindex(columns = ['n_estimators', 'score'])\n",
    "print(score)"
   ]
  },
  {
   "cell_type": "code",
   "execution_count": 36,
   "id": "duplicate-turtle",
   "metadata": {},
   "outputs": [
    {
     "data": {
      "text/plain": [
       "3"
      ]
     },
     "execution_count": 36,
     "metadata": {},
     "output_type": "execute_result"
    }
   ],
   "source": [
    "# occurs in output row\n",
    "score['score'].argmax()"
   ]
  },
  {
   "cell_type": "code",
   "execution_count": 37,
   "id": "valued-messaging",
   "metadata": {},
   "outputs": [
    {
     "ename": "IndexError",
     "evalue": "single positional indexer is out-of-bounds",
     "output_type": "error",
     "traceback": [
      "\u001b[1;31m---------------------------------------------------------------------------\u001b[0m",
      "\u001b[1;31mIndexError\u001b[0m                                Traceback (most recent call last)",
      "\u001b[1;32m<ipython-input-37-71455f421185>\u001b[0m in \u001b[0;36m<module>\u001b[1;34m\u001b[0m\n\u001b[0;32m      8\u001b[0m \u001b[1;33m\u001b[0m\u001b[0m\n\u001b[0;32m      9\u001b[0m \u001b[1;33m\u001b[0m\u001b[0m\n\u001b[1;32m---> 10\u001b[1;33m \u001b[0mscore\u001b[0m\u001b[1;33m.\u001b[0m\u001b[0miloc\u001b[0m\u001b[1;33m[\u001b[0m\u001b[1;36m93\u001b[0m\u001b[1;33m]\u001b[0m\u001b[1;33m\u001b[0m\u001b[1;33m\u001b[0m\u001b[0m\n\u001b[0m",
      "\u001b[1;32mc:\\users\\jimmy\\appdata\\local\\programs\\python\\python38\\lib\\site-packages\\pandas\\core\\indexing.py\u001b[0m in \u001b[0;36m__getitem__\u001b[1;34m(self, key)\u001b[0m\n\u001b[0;32m    877\u001b[0m \u001b[1;33m\u001b[0m\u001b[0m\n\u001b[0;32m    878\u001b[0m             \u001b[0mmaybe_callable\u001b[0m \u001b[1;33m=\u001b[0m \u001b[0mcom\u001b[0m\u001b[1;33m.\u001b[0m\u001b[0mapply_if_callable\u001b[0m\u001b[1;33m(\u001b[0m\u001b[0mkey\u001b[0m\u001b[1;33m,\u001b[0m \u001b[0mself\u001b[0m\u001b[1;33m.\u001b[0m\u001b[0mobj\u001b[0m\u001b[1;33m)\u001b[0m\u001b[1;33m\u001b[0m\u001b[1;33m\u001b[0m\u001b[0m\n\u001b[1;32m--> 879\u001b[1;33m             \u001b[1;32mreturn\u001b[0m \u001b[0mself\u001b[0m\u001b[1;33m.\u001b[0m\u001b[0m_getitem_axis\u001b[0m\u001b[1;33m(\u001b[0m\u001b[0mmaybe_callable\u001b[0m\u001b[1;33m,\u001b[0m \u001b[0maxis\u001b[0m\u001b[1;33m=\u001b[0m\u001b[0maxis\u001b[0m\u001b[1;33m)\u001b[0m\u001b[1;33m\u001b[0m\u001b[1;33m\u001b[0m\u001b[0m\n\u001b[0m\u001b[0;32m    880\u001b[0m \u001b[1;33m\u001b[0m\u001b[0m\n\u001b[0;32m    881\u001b[0m     \u001b[1;32mdef\u001b[0m \u001b[0m_is_scalar_access\u001b[0m\u001b[1;33m(\u001b[0m\u001b[0mself\u001b[0m\u001b[1;33m,\u001b[0m \u001b[0mkey\u001b[0m\u001b[1;33m:\u001b[0m \u001b[0mTuple\u001b[0m\u001b[1;33m)\u001b[0m\u001b[1;33m:\u001b[0m\u001b[1;33m\u001b[0m\u001b[1;33m\u001b[0m\u001b[0m\n",
      "\u001b[1;32mc:\\users\\jimmy\\appdata\\local\\programs\\python\\python38\\lib\\site-packages\\pandas\\core\\indexing.py\u001b[0m in \u001b[0;36m_getitem_axis\u001b[1;34m(self, key, axis)\u001b[0m\n\u001b[0;32m   1494\u001b[0m \u001b[1;33m\u001b[0m\u001b[0m\n\u001b[0;32m   1495\u001b[0m             \u001b[1;31m# validate the location\u001b[0m\u001b[1;33m\u001b[0m\u001b[1;33m\u001b[0m\u001b[1;33m\u001b[0m\u001b[0m\n\u001b[1;32m-> 1496\u001b[1;33m             \u001b[0mself\u001b[0m\u001b[1;33m.\u001b[0m\u001b[0m_validate_integer\u001b[0m\u001b[1;33m(\u001b[0m\u001b[0mkey\u001b[0m\u001b[1;33m,\u001b[0m \u001b[0maxis\u001b[0m\u001b[1;33m)\u001b[0m\u001b[1;33m\u001b[0m\u001b[1;33m\u001b[0m\u001b[0m\n\u001b[0m\u001b[0;32m   1497\u001b[0m \u001b[1;33m\u001b[0m\u001b[0m\n\u001b[0;32m   1498\u001b[0m             \u001b[1;32mreturn\u001b[0m \u001b[0mself\u001b[0m\u001b[1;33m.\u001b[0m\u001b[0mobj\u001b[0m\u001b[1;33m.\u001b[0m\u001b[0m_ixs\u001b[0m\u001b[1;33m(\u001b[0m\u001b[0mkey\u001b[0m\u001b[1;33m,\u001b[0m \u001b[0maxis\u001b[0m\u001b[1;33m=\u001b[0m\u001b[0maxis\u001b[0m\u001b[1;33m)\u001b[0m\u001b[1;33m\u001b[0m\u001b[1;33m\u001b[0m\u001b[0m\n",
      "\u001b[1;32mc:\\users\\jimmy\\appdata\\local\\programs\\python\\python38\\lib\\site-packages\\pandas\\core\\indexing.py\u001b[0m in \u001b[0;36m_validate_integer\u001b[1;34m(self, key, axis)\u001b[0m\n\u001b[0;32m   1435\u001b[0m         \u001b[0mlen_axis\u001b[0m \u001b[1;33m=\u001b[0m \u001b[0mlen\u001b[0m\u001b[1;33m(\u001b[0m\u001b[0mself\u001b[0m\u001b[1;33m.\u001b[0m\u001b[0mobj\u001b[0m\u001b[1;33m.\u001b[0m\u001b[0m_get_axis\u001b[0m\u001b[1;33m(\u001b[0m\u001b[0maxis\u001b[0m\u001b[1;33m)\u001b[0m\u001b[1;33m)\u001b[0m\u001b[1;33m\u001b[0m\u001b[1;33m\u001b[0m\u001b[0m\n\u001b[0;32m   1436\u001b[0m         \u001b[1;32mif\u001b[0m \u001b[0mkey\u001b[0m \u001b[1;33m>=\u001b[0m \u001b[0mlen_axis\u001b[0m \u001b[1;32mor\u001b[0m \u001b[0mkey\u001b[0m \u001b[1;33m<\u001b[0m \u001b[1;33m-\u001b[0m\u001b[0mlen_axis\u001b[0m\u001b[1;33m:\u001b[0m\u001b[1;33m\u001b[0m\u001b[1;33m\u001b[0m\u001b[0m\n\u001b[1;32m-> 1437\u001b[1;33m             \u001b[1;32mraise\u001b[0m \u001b[0mIndexError\u001b[0m\u001b[1;33m(\u001b[0m\u001b[1;34m\"single positional indexer is out-of-bounds\"\u001b[0m\u001b[1;33m)\u001b[0m\u001b[1;33m\u001b[0m\u001b[1;33m\u001b[0m\u001b[0m\n\u001b[0m\u001b[0;32m   1438\u001b[0m \u001b[1;33m\u001b[0m\u001b[0m\n\u001b[0;32m   1439\u001b[0m     \u001b[1;31m# -------------------------------------------------------------------\u001b[0m\u001b[1;33m\u001b[0m\u001b[1;33m\u001b[0m\u001b[1;33m\u001b[0m\u001b[0m\n",
      "\u001b[1;31mIndexError\u001b[0m: single positional indexer is out-of-bounds"
     ]
    }
   ],
   "source": [
    "#output into iloc[]\n",
    "# best for 50-199\n",
    "# score             0.774733\n",
    "# n_estimators    161.000000\n",
    "# best for 200-300\n",
    "# score             0.774567\n",
    "#n_estimators    293.000000\n",
    "\n",
    "\n",
    "score.iloc[93]"
   ]
  },
  {
   "cell_type": "code",
   "execution_count": null,
   "id": "accomplished-parks",
   "metadata": {},
   "outputs": [],
   "source": [
    "score"
   ]
  },
  {
   "cell_type": "code",
   "execution_count": null,
   "id": "political-european",
   "metadata": {},
   "outputs": [],
   "source": []
  }
 ],
 "metadata": {
  "kernelspec": {
   "display_name": "Python 3",
   "language": "python",
   "name": "python3"
  },
  "language_info": {
   "codemirror_mode": {
    "name": "ipython",
    "version": 3
   },
   "file_extension": ".py",
   "mimetype": "text/x-python",
   "name": "python",
   "nbconvert_exporter": "python",
   "pygments_lexer": "ipython3",
   "version": "3.8.7"
  }
 },
 "nbformat": 4,
 "nbformat_minor": 5
}
