{
 "cells": [
  {
   "cell_type": "code",
   "execution_count": 1,
   "id": "competitive-riding",
   "metadata": {},
   "outputs": [],
   "source": [
    "import pandas as pd\n",
    "import numpy as np\n",
    "import matplotlib\n",
    "from sklearn import preprocessing\n",
    "from sklearn.preprocessing import OneHotEncoder\n",
    "from sklearn.linear_model import LogisticRegressionCV\n",
    "from sklearn.ensemble import RandomForestRegressor\n",
    "from sklearn.datasets import make_regression"
   ]
  },
  {
   "cell_type": "code",
   "execution_count": 2,
   "id": "painful-huntington",
   "metadata": {},
   "outputs": [],
   "source": [
    "df = pd.read_csv('./data/test.csv')\n"
   ]
  },
  {
   "cell_type": "code",
   "execution_count": 3,
   "id": "foster-night",
   "metadata": {},
   "outputs": [],
   "source": [
    "# split cabin into num let\n",
    "cabin_loc_let = []\n",
    "cabin_loc_num = []\n",
    "\n",
    "for i in df['Cabin']:\n",
    "    x = str(i)\n",
    "    cabin_loc_let.append(x[0])\n",
    "    if x[1] == 'a':\n",
    "        cabin_loc_num.append(0)\n",
    "    else:\n",
    "        cabin_loc_num.append(x[1:])\n",
    "        \n",
    "df['cabin_loc_let'] = cabin_loc_let\n",
    "df['cabin_loc_num'] = cabin_loc_num"
   ]
  },
  {
   "cell_type": "code",
   "execution_count": 4,
   "id": "saving-estate",
   "metadata": {},
   "outputs": [],
   "source": [
    "# label encoder\n",
    "cll_le = preprocessing.LabelEncoder() \n",
    "cll_enc = cll_le.fit_transform(df['cabin_loc_let'])\n",
    "sex_le = preprocessing.LabelEncoder() \n",
    "sex_enc = sex_le.fit_transform(df['Sex'])\n",
    "pclass_le = preprocessing.LabelEncoder() \n",
    "pclass_enc = pclass_le.fit_transform(df['Pclass'])\n",
    "embarked_le = preprocessing.LabelEncoder() \n",
    "embarked_enc = embarked_le.fit_transform(df['Embarked'])"
   ]
  },
  {
   "cell_type": "code",
   "execution_count": 5,
   "id": "dangerous-newman",
   "metadata": {},
   "outputs": [],
   "source": [
    "# one hot Pclass, Embarked, Cabin, Ticket, Sex\n",
    "enc = OneHotEncoder(sparse = True)\n",
    "\n",
    "cll_enc = cll_enc.reshape(-1,1)\n",
    "sex_enc = sex_enc.reshape(-1,1)\n",
    "pclass_enc = pclass_enc.reshape(-1,1)\n",
    "embarked_enc = embarked_enc.reshape(-1,1)\n",
    "\n",
    "\n",
    "cll_onehot = enc.fit_transform(cll_enc).toarray()\n",
    "cll_cat = enc.categories_\n",
    "sex_onehot = enc.fit_transform(sex_enc).toarray()\n",
    "sex_cat = enc.categories_\n",
    "pclass_onehot = enc.fit_transform(pclass_enc).toarray()\n",
    "pclass_cat = enc.categories_\n",
    "embarked_onehot = enc.fit_transform(embarked_enc).toarray()\n",
    "embarked_cat = enc.categories_\n"
   ]
  },
  {
   "cell_type": "code",
   "execution_count": 6,
   "id": "fleet-watts",
   "metadata": {},
   "outputs": [
    {
     "name": "stderr",
     "output_type": "stream",
     "text": [
      "c:\\users\\jimmy\\appdata\\local\\programs\\python\\python38\\lib\\site-packages\\sklearn\\utils\\validation.py:63: DataConversionWarning: A column-vector y was passed when a 1d array was expected. Please change the shape of y to (n_samples, ), for example using ravel().\n",
      "  return f(*args, **kwargs)\n"
     ]
    }
   ],
   "source": [
    "# get column names\n",
    "cll_cat = np.asarray(cll_cat)\n",
    "sex_cat = np.asarray(sex_cat)\n",
    "pclass_cat = np.asarray(pclass_cat)\n",
    "embarked_cat = np.asarray(embarked_cat)\n",
    "\n",
    "cll_cat = cll_cat.reshape(-1,1)\n",
    "sex_cat = sex_cat.reshape(-1,1)\n",
    "pclass_cat = pclass_cat.reshape(-1,1)\n",
    "embarked_cat = embarked_cat.reshape(-1,1)\n",
    "\n",
    "cll_inv = cll_le.inverse_transform(cll_cat)\n",
    "sex_inv = sex_le.inverse_transform(sex_cat)\n",
    "pclass_inv = pclass_le.inverse_transform(pclass_cat)\n",
    "embarked_inv = embarked_le.inverse_transform(embarked_cat)\n"
   ]
  },
  {
   "cell_type": "code",
   "execution_count": 7,
   "id": "hazardous-device",
   "metadata": {},
   "outputs": [],
   "source": [
    "cll_df = pd.DataFrame(data = cll_onehot, columns = cll_inv)\n",
    "sex_df = pd.DataFrame(data = sex_onehot, columns = sex_inv)\n",
    "pclass_df = pd.DataFrame(data = pclass_onehot, columns = pclass_inv)\n",
    "embarked_df = pd.DataFrame(data = embarked_onehot, columns = embarked_inv)\n",
    "\n",
    "df2 = pd.concat([df, cll_df, sex_df, pclass_df, embarked_df], axis = 1)\n"
   ]
  },
  {
   "cell_type": "code",
   "execution_count": 8,
   "id": "acquired-italian",
   "metadata": {},
   "outputs": [],
   "source": [
    "df2 = df2.drop(['Ticket', 'Sex', 'Cabin', 'Embarked', 'Pclass', 'Name', 'cabin_loc_let'], axis = 1)"
   ]
  },
  {
   "cell_type": "code",
   "execution_count": 9,
   "id": "impaired-disease",
   "metadata": {},
   "outputs": [
    {
     "data": {
      "text/plain": [
       "[]"
      ]
     },
     "execution_count": 9,
     "metadata": {},
     "output_type": "execute_result"
    }
   ],
   "source": [
    "# replace nan\n",
    "# df2.columns[df2.isna().any()].tolist()\n",
    "mean_age = df2['Age'].mean()\n",
    "mean_fare = df2['Fare'].mean()\n",
    "df2['Age'] = df2['Age'].fillna(value = mean_age)\n",
    "df2['Fare'] = df2['Fare'].fillna(value = mean_fare)\n",
    "\n",
    "\n",
    "df2.columns[df2.isna().any()].tolist()\n",
    "\n"
   ]
  },
  {
   "cell_type": "code",
   "execution_count": 10,
   "id": "illegal-arlington",
   "metadata": {},
   "outputs": [
    {
     "data": {
      "text/plain": [
       "PassengerId    149999.500000\n",
       "Age                30.565796\n",
       "SibSp               0.486550\n",
       "Parch               0.492830\n",
       "Fare               45.374804\n",
       "A                   0.072120\n",
       "B                   0.081130\n",
       "C                   0.069930\n",
       "D                   0.025210\n",
       "E                   0.018370\n",
       "F                   0.023230\n",
       "G                   0.001440\n",
       "T                   0.000260\n",
       "n                   0.708310\n",
       "female              0.302430\n",
       "male                0.697570\n",
       "1                   0.269430\n",
       "2                   0.092210\n",
       "3                   0.638360\n",
       "C                   0.223080\n",
       "Q                   0.085730\n",
       "S                   0.688420\n",
       "NaN                 0.002770\n",
       "dtype: float64"
      ]
     },
     "execution_count": 10,
     "metadata": {},
     "output_type": "execute_result"
    }
   ],
   "source": [
    "df2.mean()"
   ]
  },
  {
   "cell_type": "code",
   "execution_count": null,
   "id": "missing-kelly",
   "metadata": {},
   "outputs": [],
   "source": []
  },
  {
   "cell_type": "code",
   "execution_count": null,
   "id": "seeing-infrastructure",
   "metadata": {},
   "outputs": [],
   "source": [
    "\n"
   ]
  },
  {
   "cell_type": "code",
   "execution_count": null,
   "id": "defensive-qualification",
   "metadata": {},
   "outputs": [],
   "source": []
  },
  {
   "cell_type": "code",
   "execution_count": null,
   "id": "metallic-mechanism",
   "metadata": {},
   "outputs": [],
   "source": []
  }
 ],
 "metadata": {
  "kernelspec": {
   "display_name": "Python 3",
   "language": "python",
   "name": "python3"
  },
  "language_info": {
   "codemirror_mode": {
    "name": "ipython",
    "version": 3
   },
   "file_extension": ".py",
   "mimetype": "text/x-python",
   "name": "python",
   "nbconvert_exporter": "python",
   "pygments_lexer": "ipython3",
   "version": "3.8.7"
  }
 },
 "nbformat": 4,
 "nbformat_minor": 5
}
