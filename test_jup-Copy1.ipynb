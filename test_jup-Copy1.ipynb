{
 "cells": [
  {
   "cell_type": "code",
   "execution_count": 6,
   "id": "romantic-coast",
   "metadata": {},
   "outputs": [],
   "source": [
    "import pandas as pd\n",
    "import numpy as np\n",
    "import matplotlib\n",
    "from sklearn import preprocessing\n",
    "from sklearn.preprocessing import OneHotEncoder\n",
    "from sklearn.linear_model import LogisticRegressionCV\n",
    "from sklearn.ensemble import RandomForestRegressor\n",
    "from sklearn.datasets import make_regression"
   ]
  },
  {
   "cell_type": "code",
   "execution_count": 7,
   "id": "breathing-spare",
   "metadata": {},
   "outputs": [],
   "source": [
    "df = pd.read_csv('./data/test.csv')\n"
   ]
  },
  {
   "cell_type": "code",
   "execution_count": 8,
   "id": "rocky-platinum",
   "metadata": {},
   "outputs": [],
   "source": [
    "# split cabin into num let\n",
    "cabin_loc_let = []\n",
    "cabin_loc_num = []\n",
    "\n",
    "for i in df['Cabin']:\n",
    "    x = str(i)\n",
    "    cabin_loc_let.append(x[0])\n",
    "    if x[1] == 'a':\n",
    "        cabin_loc_num.append(0)\n",
    "    else:\n",
    "        cabin_loc_num.append(x[1:])\n",
    "        \n",
    "df['cabin_loc_let'] = cabin_loc_let\n",
    "df['cabin_loc_num'] = cabin_loc_num"
   ]
  },
  {
   "cell_type": "code",
   "execution_count": 9,
   "id": "amended-nightmare",
   "metadata": {},
   "outputs": [],
   "source": [
    "# label encoder\n",
    "cll_le = preprocessing.LabelEncoder() \n",
    "cll_enc = cll_le.fit_transform(df['cabin_loc_let'])\n",
    "sex_le = preprocessing.LabelEncoder() \n",
    "sex_enc = sex_le.fit_transform(df['Sex'])\n",
    "pclass_le = preprocessing.LabelEncoder() \n",
    "pclass_enc = pclass_le.fit_transform(df['Pclass'])\n",
    "embarked_le = preprocessing.LabelEncoder() \n",
    "embarked_enc = embarked_le.fit_transform(df['Embarked'])"
   ]
  },
  {
   "cell_type": "code",
   "execution_count": 10,
   "id": "smooth-parliament",
   "metadata": {},
   "outputs": [],
   "source": [
    "# one hot Pclass, Embarked, Cabin, Ticket, Sex\n",
    "enc = OneHotEncoder(sparse = True)\n",
    "\n",
    "cll_enc = cll_enc.reshape(-1,1)\n",
    "sex_enc = sex_enc.reshape(-1,1)\n",
    "pclass_enc = pclass_enc.reshape(-1,1)\n",
    "embarked_enc = embarked_enc.reshape(-1,1)\n",
    "\n",
    "\n",
    "cll_onehot = enc.fit_transform(cll_enc).toarray()\n",
    "cll_cat = enc.categories_\n",
    "sex_onehot = enc.fit_transform(sex_enc).toarray()\n",
    "sex_cat = enc.categories_\n",
    "pclass_onehot = enc.fit_transform(pclass_enc).toarray()\n",
    "pclass_cat = enc.categories_\n",
    "embarked_onehot = enc.fit_transform(embarked_enc).toarray()\n",
    "embarked_cat = enc.categories_\n"
   ]
  },
  {
   "cell_type": "code",
   "execution_count": 11,
   "id": "accepting-match",
   "metadata": {},
   "outputs": [
    {
     "name": "stderr",
     "output_type": "stream",
     "text": [
      "c:\\users\\jimmy\\appdata\\local\\programs\\python\\python38\\lib\\site-packages\\sklearn\\utils\\validation.py:63: DataConversionWarning: A column-vector y was passed when a 1d array was expected. Please change the shape of y to (n_samples, ), for example using ravel().\n",
      "  return f(*args, **kwargs)\n"
     ]
    }
   ],
   "source": [
    "# get column names\n",
    "cll_cat = np.asarray(cll_cat)\n",
    "sex_cat = np.asarray(sex_cat)\n",
    "pclass_cat = np.asarray(pclass_cat)\n",
    "embarked_cat = np.asarray(embarked_cat)\n",
    "\n",
    "cll_cat = cll_cat.reshape(-1,1)\n",
    "sex_cat = sex_cat.reshape(-1,1)\n",
    "pclass_cat = pclass_cat.reshape(-1,1)\n",
    "embarked_cat = embarked_cat.reshape(-1,1)\n",
    "\n",
    "cll_inv = cll_le.inverse_transform(cll_cat)\n",
    "sex_inv = sex_le.inverse_transform(sex_cat)\n",
    "pclass_inv = pclass_le.inverse_transform(pclass_cat)\n",
    "embarked_inv = embarked_le.inverse_transform(embarked_cat)\n"
   ]
  },
  {
   "cell_type": "code",
   "execution_count": 12,
   "id": "better-pricing",
   "metadata": {},
   "outputs": [],
   "source": [
    "cll_df = pd.DataFrame(data = cll_onehot, columns = cll_inv)\n",
    "sex_df = pd.DataFrame(data = sex_onehot, columns = sex_inv)\n",
    "pclass_df = pd.DataFrame(data = pclass_onehot, columns = pclass_inv)\n",
    "embarked_df = pd.DataFrame(data = embarked_onehot, columns = embarked_inv)\n",
    "\n",
    "df2 = pd.concat([df, cll_df, sex_df, pclass_df, embarked_df], axis = 1)\n"
   ]
  },
  {
   "cell_type": "code",
   "execution_count": 13,
   "id": "center-possibility",
   "metadata": {},
   "outputs": [],
   "source": [
    "df2 = df2.drop(['Ticket', 'Sex', 'Cabin', 'Embarked', 'Pclass', 'Name', 'cabin_loc_let'], axis = 1)"
   ]
  },
  {
   "cell_type": "code",
   "execution_count": 14,
   "id": "accessible-degree",
   "metadata": {},
   "outputs": [
    {
     "data": {
      "text/plain": [
       "[]"
      ]
     },
     "execution_count": 14,
     "metadata": {},
     "output_type": "execute_result"
    }
   ],
   "source": [
    "# replace nan\n",
    "# df2.columns[df2.isna().any()].tolist()\n",
    "mean_age = df2['Age'].mean()\n",
    "mean_fare = df2['Fare'].mean()\n",
    "df2['Age'] = df2['Age'].fillna(value = mean_age)\n",
    "df2['Fare'] = df2['Fare'].fillna(value = mean_fare)\n",
    "\n",
    "\n",
    "df2.columns[df2.isna().any()].tolist()\n",
    "\n"
   ]
  },
  {
   "cell_type": "code",
   "execution_count": 15,
   "id": "african-recipe",
   "metadata": {},
   "outputs": [],
   "source": [
    "# gbm model, iterate for params\n",
    "from sklearn.ensemble import GradientBoostingClassifier\n",
    "X_test = df2\n"
   ]
  },
  {
   "cell_type": "code",
   "execution_count": null,
   "id": "owned-knife",
   "metadata": {},
   "outputs": [],
   "source": []
  },
  {
   "cell_type": "code",
   "execution_count": null,
   "id": "covered-fireplace",
   "metadata": {},
   "outputs": [],
   "source": [
    "\n",
    "\n"
   ]
  },
  {
   "cell_type": "code",
   "execution_count": 16,
   "id": "front-guarantee",
   "metadata": {},
   "outputs": [],
   "source": [
    "# save model as file\n",
    "# import pickle\n",
    "\n",
    "# filename = 'clf10.sav'\n",
    "# pickle.dump(clf10, open(filename, 'wb'))\n",
    "\n",
    "# filename = 'clf100.sav'\n",
    "# pickle.dump(clf100, open(filename, 'wb'))\n",
    "\n",
    "# filename = 'clf500.sav'\n",
    "# pickle.dump(clf500, open(filename, 'wb'))\n",
    "\n",
    "# filename = 'clf1000.sav'\n",
    "# pickle.dump(clf1000, open(filename, 'wb'))"
   ]
  },
  {
   "cell_type": "code",
   "execution_count": 17,
   "id": "annual-olive",
   "metadata": {},
   "outputs": [],
   "source": [
    "# use model for test\n",
    "import pickle\n",
    "\n",
    "clf10 = pickle.load(open('./clf10.sav', 'rb'))\n",
    "clf10_output = clf10.predict(X_test)\n",
    "\n",
    "clf100 = pickle.load(open('./clf100.sav', 'rb'))\n",
    "clf100_output = clf100.predict(X_test)\n",
    "\n",
    "clf500 = pickle.load(open('./clf500.sav', 'rb'))\n",
    "clf500_output = clf500.predict(X_test) \n",
    "\n",
    "clf1000 = pickle.load(open('./clf1000.sav', 'rb'))\n",
    "clf1000_output = clf1000.predict(X_test) \n"
   ]
  },
  {
   "cell_type": "code",
   "execution_count": 33,
   "id": "cordless-darwin",
   "metadata": {},
   "outputs": [],
   "source": [
    "# output to data frame\n",
    "clf10_sub = pd.DataFrame(clf10_output, columns = ['Survived'])\n",
    "clf10_sub['PassengerId'] = range(100000, 200000)\n",
    "clf10_sub = clf10_sub.reindex(columns = ['PassengerId', 'Survived'])\n",
    "clf10_sub = clf10_sub.set_index(['PassengerId'])\n",
    "\n",
    "clf100_sub = pd.DataFrame(clf100_output, columns = ['Survived'])\n",
    "clf100_sub['PassengerId'] = range(100000, 200000)\n",
    "clf100_sub = clf100_sub.reindex(columns = ['PassengerId', 'Survived'])\n",
    "clf100_sub = clf100_sub.set_index(['PassengerId'])\n",
    "\n",
    "clf500_sub = pd.DataFrame(clf500_output, columns = ['Survived'])\n",
    "clf500_sub['PassengerId'] = range(100000, 200000)\n",
    "clf500_sub = clf500_sub.reindex(columns = ['PassengerId', 'Survived'])\n",
    "clf500_sub = clf500_sub.set_index(['PassengerId'])\n",
    "\n",
    "clf1000_sub = pd.DataFrame(clf1000_output, columns = ['Survived'])\n",
    "clf1000_sub['PassengerId'] = range(100000, 200000)\n",
    "clf1000_sub = clf1000_sub.reindex(columns = ['PassengerId', 'Survived'])\n",
    "clf1000_sub = clf1000_sub.set_index(['PassengerId'])\n",
    "\n"
   ]
  },
  {
   "cell_type": "code",
   "execution_count": 34,
   "id": "martial-mason",
   "metadata": {},
   "outputs": [],
   "source": [
    "# to csv\n",
    "\n",
    "clf10_sub.to_csv('./data/submissions/clf10_sub.csv', header = True)\n",
    "clf100_sub.to_csv('./data/submissions/clf100_sub.csv', header = True)\n",
    "clf500_sub.to_csv('./data/submissions/clf500_sub.csv', header = True)\n",
    "clf1000_sub.to_csv('./data/submissions/clf1000_sub.csv', header = True)\n",
    "\n"
   ]
  },
  {
   "cell_type": "code",
   "execution_count": null,
   "id": "typical-lobby",
   "metadata": {},
   "outputs": [],
   "source": [
    "### clf 100 performed the best"
   ]
  }
 ],
 "metadata": {
  "kernelspec": {
   "display_name": "Python 3",
   "language": "python",
   "name": "python3"
  },
  "language_info": {
   "codemirror_mode": {
    "name": "ipython",
    "version": 3
   },
   "file_extension": ".py",
   "mimetype": "text/x-python",
   "name": "python",
   "nbconvert_exporter": "python",
   "pygments_lexer": "ipython3",
   "version": "3.8.7"
  }
 },
 "nbformat": 4,
 "nbformat_minor": 5
}
